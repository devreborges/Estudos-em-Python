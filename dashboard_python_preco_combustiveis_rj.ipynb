{
  "nbformat": 4,
  "nbformat_minor": 0,
  "metadata": {
    "colab": {
      "provenance": [],
      "authorship_tag": "ABX9TyMnKFwlagfkvYnWA8u5eBGr",
      "include_colab_link": true
    },
    "kernelspec": {
      "name": "python3",
      "display_name": "Python 3"
    },
    "language_info": {
      "name": "python"
    }
  },
  "cells": [
    {
      "cell_type": "markdown",
      "metadata": {
        "id": "view-in-github",
        "colab_type": "text"
      },
      "source": [
        "<a href=\"https://colab.research.google.com/github/devreborges/projetos_analise_dados/blob/main/dashboard_python_preco_combustiveis_rj.ipynb\" target=\"_parent\"><img src=\"https://colab.research.google.com/assets/colab-badge.svg\" alt=\"Open In Colab\"/></a>"
      ]
    },
    {
      "cell_type": "code",
      "source": [
        "pip install dash"
      ],
      "metadata": {
        "colab": {
          "base_uri": "https://localhost:8080/"
        },
        "id": "FqMifiR6mntD",
        "outputId": "ff57812b-05e1-4101-91fa-e97111a47626"
      },
      "execution_count": null,
      "outputs": [
        {
          "output_type": "stream",
          "name": "stdout",
          "text": [
            "Requirement already satisfied: dash in /usr/local/lib/python3.10/dist-packages (2.16.1)\n",
            "Requirement already satisfied: Flask<3.1,>=1.0.4 in /usr/local/lib/python3.10/dist-packages (from dash) (2.2.5)\n",
            "Requirement already satisfied: Werkzeug<3.1 in /usr/local/lib/python3.10/dist-packages (from dash) (3.0.1)\n",
            "Requirement already satisfied: plotly>=5.0.0 in /usr/local/lib/python3.10/dist-packages (from dash) (5.15.0)\n",
            "Requirement already satisfied: dash-html-components==2.0.0 in /usr/local/lib/python3.10/dist-packages (from dash) (2.0.0)\n",
            "Requirement already satisfied: dash-core-components==2.0.0 in /usr/local/lib/python3.10/dist-packages (from dash) (2.0.0)\n",
            "Requirement already satisfied: dash-table==5.0.0 in /usr/local/lib/python3.10/dist-packages (from dash) (5.0.0)\n",
            "Requirement already satisfied: importlib-metadata in /usr/local/lib/python3.10/dist-packages (from dash) (7.1.0)\n",
            "Requirement already satisfied: typing-extensions>=4.1.1 in /usr/local/lib/python3.10/dist-packages (from dash) (4.10.0)\n",
            "Requirement already satisfied: requests in /usr/local/lib/python3.10/dist-packages (from dash) (2.31.0)\n",
            "Requirement already satisfied: retrying in /usr/local/lib/python3.10/dist-packages (from dash) (1.3.4)\n",
            "Requirement already satisfied: nest-asyncio in /usr/local/lib/python3.10/dist-packages (from dash) (1.6.0)\n",
            "Requirement already satisfied: setuptools in /usr/local/lib/python3.10/dist-packages (from dash) (67.7.2)\n",
            "Requirement already satisfied: Jinja2>=3.0 in /usr/local/lib/python3.10/dist-packages (from Flask<3.1,>=1.0.4->dash) (3.1.3)\n",
            "Requirement already satisfied: itsdangerous>=2.0 in /usr/local/lib/python3.10/dist-packages (from Flask<3.1,>=1.0.4->dash) (2.1.2)\n",
            "Requirement already satisfied: click>=8.0 in /usr/local/lib/python3.10/dist-packages (from Flask<3.1,>=1.0.4->dash) (8.1.7)\n",
            "Requirement already satisfied: tenacity>=6.2.0 in /usr/local/lib/python3.10/dist-packages (from plotly>=5.0.0->dash) (8.2.3)\n",
            "Requirement already satisfied: packaging in /usr/local/lib/python3.10/dist-packages (from plotly>=5.0.0->dash) (24.0)\n",
            "Requirement already satisfied: MarkupSafe>=2.1.1 in /usr/local/lib/python3.10/dist-packages (from Werkzeug<3.1->dash) (2.1.5)\n",
            "Requirement already satisfied: zipp>=0.5 in /usr/local/lib/python3.10/dist-packages (from importlib-metadata->dash) (3.18.1)\n",
            "Requirement already satisfied: charset-normalizer<4,>=2 in /usr/local/lib/python3.10/dist-packages (from requests->dash) (3.3.2)\n",
            "Requirement already satisfied: idna<4,>=2.5 in /usr/local/lib/python3.10/dist-packages (from requests->dash) (3.6)\n",
            "Requirement already satisfied: urllib3<3,>=1.21.1 in /usr/local/lib/python3.10/dist-packages (from requests->dash) (2.0.7)\n",
            "Requirement already satisfied: certifi>=2017.4.17 in /usr/local/lib/python3.10/dist-packages (from requests->dash) (2024.2.2)\n",
            "Requirement already satisfied: six>=1.7.0 in /usr/local/lib/python3.10/dist-packages (from retrying->dash) (1.16.0)\n"
          ]
        }
      ]
    },
    {
      "cell_type": "code",
      "source": [
        "pip install openpyxl"
      ],
      "metadata": {
        "colab": {
          "base_uri": "https://localhost:8080/"
        },
        "id": "_1fWOJlfm54X",
        "outputId": "f14d1b69-e401-4dde-d234-9eb166f6b1d0"
      },
      "execution_count": null,
      "outputs": [
        {
          "output_type": "stream",
          "name": "stdout",
          "text": [
            "Requirement already satisfied: openpyxl in /usr/local/lib/python3.10/dist-packages (3.1.2)\n",
            "Requirement already satisfied: et-xmlfile in /usr/local/lib/python3.10/dist-packages (from openpyxl) (1.1.0)\n"
          ]
        }
      ]
    },
    {
      "cell_type": "code",
      "execution_count": null,
      "metadata": {
        "id": "SLJCM64_mO26"
      },
      "outputs": [],
      "source": [
        "import pandas as pd\n",
        "import dash\n",
        "import dash_core_components as dcc\n",
        "import dash_html_components as html\n",
        "from dash.dependencies import Input, Output\n",
        "import plotly.express as px\n"
      ]
    },
    {
      "cell_type": "code",
      "source": [
        "# URL do arquivo no Google Drive\n",
        "url = 'https://drive.google.com/uc?id=1I8FZ3lexsl_6sirAzyf6pbW0h339kyyE'\n",
        "\n",
        "df = pd.read_csv(url)"
      ],
      "metadata": {
        "id": "d5C4zGpMmbUn"
      },
      "execution_count": null,
      "outputs": []
    },
    {
      "cell_type": "code",
      "source": [
        "df_gasolina = df.query('`Produto` == \"GASOLINA\"')\n",
        "df_etanol = df.query('`Produto` == \"ETANOL\"')\n",
        "df_adtivada = df.query('`Produto` == \"GASOLINA ADITIVADA\"')"
      ],
      "metadata": {
        "id": "bnYrZlSD8KCc"
      },
      "execution_count": null,
      "outputs": []
    },
    {
      "cell_type": "code",
      "source": [
        "df_rj = df_gasolina[df_gasolina['Estado - Sigla'] == 'RJ']\n",
        "df_rj_etanol = df_etanol[df_etanol['Estado - Sigla'] == 'RJ']"
      ],
      "metadata": {
        "id": "gsmjtpq-ZKH-"
      },
      "execution_count": null,
      "outputs": []
    },
    {
      "cell_type": "code",
      "source": [
        "# Crie um aplicativo Dash\n",
        "app = dash.Dash(__name__)\n",
        "\n",
        "# Layout do aplicativo\n",
        "app.layout = html.Div(children=[\n",
        "    html.H1(children='Preço dos Combustíveis'),\n",
        "\n",
        "    html.Div(id='preco-info'),\n",
        "\n",
        "    html.Div(children=[\n",
        "        html.Label('Selecione o Município:'),\n",
        "        dcc.Dropdown(\n",
        "            id='municipio-dropdown',\n",
        "            options=[{'label': municipio, 'value': municipio} for municipio in df_rj['Municipio'].unique()],\n",
        "            value=df_rj['Municipio'].unique()[0]  # Valor padrão\n",
        "        ),\n",
        "    ]),\n",
        "\n",
        "    html.Div(children=[\n",
        "        html.Label('Selecione o Bairro:'),\n",
        "        dcc.Dropdown(\n",
        "            id='bairro-dropdown',\n",
        "            options=[],  # As opções serão atualizadas dinamicamente com base no Município selecionado\n",
        "            value=''  # Valor padrão\n",
        "        ),\n",
        "    ]),\n",
        "\n",
        "    dcc.Graph(id='preco-combustiveis-graph'),\n",
        "\n",
        "    html.Div(id='preco-bairros-grafico')\n",
        "])\n",
        "\n",
        "# Callback para atualizar as opções do seletor de Bairro com base no Município selecionado\n",
        "@app.callback(\n",
        "    Output('bairro-dropdown', 'options'),\n",
        "    [Input('municipio-dropdown', 'value')]\n",
        ")\n",
        "def update_bairros_options(selected_municipio):\n",
        "    if selected_municipio:\n",
        "        bairros_options = [{'label': bairro, 'value': bairro} for bairro in df_rj[df_rj['Municipio'] == selected_municipio]['Bairro'].unique()]\n",
        "    else:\n",
        "        bairros_options = []\n",
        "    return bairros_options\n",
        "\n",
        "# Callback para atualizar o texto informativo\n",
        "@app.callback(\n",
        "    Output('preco-info', 'children'),\n",
        "    [Input('municipio-dropdown', 'value'),\n",
        "     Input('bairro-dropdown', 'value')]\n",
        ")\n",
        "def update_preco_info(selected_municipio, selected_bairro):\n",
        "    if selected_municipio:\n",
        "        filtered_df = df_rj[df_rj['Municipio'] == selected_municipio]\n",
        "        menor_preco = filtered_df['Valor de Venda'].min()\n",
        "        maior_preco = filtered_df['Valor de Venda'].max()\n",
        "        texto_menor = f'O menor valor da gasolina no município \"{selected_municipio}\" é {menor_preco:.2f}'\n",
        "        texto_maior = f'O maior valor da gasolina no município \"{selected_municipio}\" é {maior_preco:.2f}'\n",
        "    else:\n",
        "        texto_menor = ''\n",
        "        texto_maior = ''\n",
        "    return [html.P(texto_menor), html.P(texto_maior)]\n",
        "\n",
        "\n",
        "# Callback para atualizar o gráfico com base nos seletores de Município e Bairro selecionados\n",
        "@app.callback(\n",
        "    Output('preco-combustiveis-graph', 'figure'),\n",
        "    [Input('municipio-dropdown', 'value'),\n",
        "     Input('bairro-dropdown', 'value')]\n",
        ")\n",
        "def update_graph(selected_municipio, selected_bairro):\n",
        "    filtered_df = df_rj\n",
        "    if selected_municipio:\n",
        "        filtered_df = filtered_df[filtered_df['Municipio'] == selected_municipio]\n",
        "    if selected_bairro:\n",
        "        filtered_df = filtered_df[filtered_df['Bairro'] == selected_bairro]\n",
        "\n",
        "    menor_preco = filtered_df['Valor de Venda'].min()\n",
        "    maior_preco = filtered_df['Valor de Venda'].max()\n",
        "    preco_medio = filtered_df['Valor de Venda'].mean()\n",
        "\n",
        "    fig = px.bar(\n",
        "        x=['Menor Preço', 'Maior Preço', 'Preço Médio'],\n",
        "        y=[menor_preco, preco_medio, maior_preco],\n",
        "        labels={'x': 'Tipo de Preço', 'y': 'Valor de Venda'},\n",
        "        title='Preços dos Combustíveis'\n",
        "    )\n",
        "\n",
        "    # Definir cores das barras\n",
        "    fig.update_traces(marker_color=['yellow', 'orange', 'red'], text=[f'{menor_preco:.2f}', f'{preco_medio:.2f}', f'{maior_preco:.2f}'], textposition='outside')\n",
        "\n",
        "    # Ajustar o tamanho do gráfico\n",
        "    fig.update_layout(width=400, height=600)\n",
        "\n",
        "    return fig\n",
        "\n",
        "# Callback para atualizar o gráfico de barras com os 10 preços mais baixos de cada município selecionado\n",
        "@app.callback(\n",
        "    Output('preco-bairros-grafico', 'children'),\n",
        "    [Input('municipio-dropdown', 'value')]\n",
        ")\n",
        "def update_bairros_graph(selected_municipio):\n",
        "    if selected_municipio:\n",
        "        # Filtrar o DataFrame para o município selecionado\n",
        "        filtered_df = df_rj[df_rj['Municipio'] == selected_municipio]\n",
        "        # Ordenar o DataFrame pelos preços de venda\n",
        "        sorted_df = filtered_df.sort_values(by='Valor de Venda')\n",
        "        # Selecionar os 10 preços mais baixos\n",
        "        top_10_prices = sorted_df.head(10)\n",
        "\n",
        "        # Criar o gráfico de barras\n",
        "        fig = px.bar(\n",
        "            top_10_prices,\n",
        "            y='Bairro',\n",
        "            x='Valor de Venda',\n",
        "            orientation='h',\n",
        "            labels={'x': 'Valor de Venda', 'y': 'Bairro'},\n",
        "            title=f'10 Menores Preços de Combustíveis em {selected_municipio}',\n",
        "            color='Valor de Venda',\n",
        "            color_continuous_scale='viridis',  # Esquema de cores (de amarelo para vermelho)\n",
        "            text='Valor de Venda',\n",
        "            width=600,\n",
        "            height=800\n",
        "        )\n",
        "\n",
        "        return dcc.Graph(figure=fig)\n",
        "\n",
        "    else:\n",
        "        return html.Div()\n",
        "\n",
        "\n",
        "\n",
        "# Executar o aplicativo\n",
        "if __name__ == '__main__':\n",
        "    app.run_server(debug=True)"
      ],
      "metadata": {
        "id": "5nSY1PlFmamB",
        "colab": {
          "base_uri": "https://localhost:8080/",
          "height": 671
        },
        "outputId": "042ec3b7-f6e1-40e2-eff5-8385a6430013"
      },
      "execution_count": null,
      "outputs": [
        {
          "output_type": "display_data",
          "data": {
            "text/plain": [
              "<IPython.core.display.Javascript object>"
            ],
            "application/javascript": [
              "(async (port, path, width, height, cache, element) => {\n",
              "    if (!google.colab.kernel.accessAllowed && !cache) {\n",
              "      return;\n",
              "    }\n",
              "    element.appendChild(document.createTextNode(''));\n",
              "    const url = await google.colab.kernel.proxyPort(port, {cache});\n",
              "    const iframe = document.createElement('iframe');\n",
              "    iframe.src = new URL(path, url).toString();\n",
              "    iframe.height = height;\n",
              "    iframe.width = width;\n",
              "    iframe.style.border = 0;\n",
              "    iframe.allow = [\n",
              "        'accelerometer',\n",
              "        'autoplay',\n",
              "        'camera',\n",
              "        'clipboard-read',\n",
              "        'clipboard-write',\n",
              "        'gyroscope',\n",
              "        'magnetometer',\n",
              "        'microphone',\n",
              "        'serial',\n",
              "        'usb',\n",
              "        'xr-spatial-tracking',\n",
              "    ].join('; ');\n",
              "    element.appendChild(iframe);\n",
              "  })(8050, \"/\", \"100%\", 650, false, window.element)"
            ]
          },
          "metadata": {}
        }
      ]
    }
  ]
}