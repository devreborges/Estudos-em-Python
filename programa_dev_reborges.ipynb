{
  "nbformat": 4,
  "nbformat_minor": 0,
  "metadata": {
    "colab": {
      "provenance": [],
      "authorship_tag": "ABX9TyNmVlzE6eRnkju+MwxjUp1K",
      "include_colab_link": true
    },
    "kernelspec": {
      "name": "python3",
      "display_name": "Python 3"
    },
    "language_info": {
      "name": "python"
    }
  },
  "cells": [
    {
      "cell_type": "markdown",
      "metadata": {
        "id": "view-in-github",
        "colab_type": "text"
      },
      "source": [
        "<a href=\"https://colab.research.google.com/github/devreborges/projetos_analise_dados/blob/main/programa_dev_reborges.ipynb\" target=\"_parent\"><img src=\"https://colab.research.google.com/assets/colab-badge.svg\" alt=\"Open In Colab\"/></a>"
      ]
    },
    {
      "cell_type": "code",
      "execution_count": 121,
      "metadata": {
        "id": "NIZ_6lZgT4C8"
      },
      "outputs": [],
      "source": [
        "from urllib.request import urlopen, Request\n",
        "from urllib.error import URLError, HTTPError\n",
        "from bs4 import BeautifulSoup\n",
        "import pandas as pd\n"
      ]
    },
    {
      "cell_type": "code",
      "source": [
        "df_linhas = pd.read_excel('./WO_WIPO_Marcas.xlsx')"
      ],
      "metadata": {
        "id": "V2rf3fC8T_H2"
      },
      "execution_count": 122,
      "outputs": []
    },
    {
      "cell_type": "code",
      "source": [
        "df_linhas['NUMERO'].head()"
      ],
      "metadata": {
        "colab": {
          "base_uri": "https://localhost:8080/"
        },
        "id": "gpOSiIATXaRi",
        "outputId": "4c8b9bb4-b933-4146-ce18-727e3e6ef9d5"
      },
      "execution_count": 123,
      "outputs": [
        {
          "output_type": "execute_result",
          "data": {
            "text/plain": [
              "0    1701130\n",
              "1    1705961\n",
              "2    1716118\n",
              "3    1697722\n",
              "4    1699766\n",
              "Name: NUMERO, dtype: object"
            ]
          },
          "metadata": {},
          "execution_count": 123
        }
      ]
    },
    {
      "cell_type": "code",
      "source": [
        "df_linhas['NUMERO'].isnull().value_counts()"
      ],
      "metadata": {
        "colab": {
          "base_uri": "https://localhost:8080/"
        },
        "id": "GvL2nrieabD9",
        "outputId": "0b0c7217-3921-4494-da4c-8f98a34aded6"
      },
      "execution_count": 124,
      "outputs": [
        {
          "output_type": "execute_result",
          "data": {
            "text/plain": [
              "NUMERO\n",
              "False    10522\n",
              "Name: count, dtype: int64"
            ]
          },
          "metadata": {},
          "execution_count": 124
        }
      ]
    },
    {
      "cell_type": "code",
      "source": [
        "df_linhas['NUMERO'] = df_linhas['NUMERO'].apply(str)\n"
      ],
      "metadata": {
        "id": "zRUnW5VDcSKS"
      },
      "execution_count": 125,
      "outputs": []
    },
    {
      "cell_type": "code",
      "source": [
        "df_linhas['NUMERO'].head()"
      ],
      "metadata": {
        "colab": {
          "base_uri": "https://localhost:8080/"
        },
        "id": "cjOkaOjSd9_G",
        "outputId": "cfd21806-5ac6-4659-d543-8ac778f1d0df"
      },
      "execution_count": 126,
      "outputs": [
        {
          "output_type": "execute_result",
          "data": {
            "text/plain": [
              "0    1701130\n",
              "1    1705961\n",
              "2    1716118\n",
              "3    1697722\n",
              "4    1699766\n",
              "Name: NUMERO, dtype: object"
            ]
          },
          "metadata": {},
          "execution_count": 126
        }
      ]
    },
    {
      "cell_type": "code",
      "source": [
        "lista = df_linhas['NUMERO']\n",
        "\n",
        "dados = []"
      ],
      "metadata": {
        "id": "xX1qfx-MU4RB"
      },
      "execution_count": 127,
      "outputs": []
    },
    {
      "cell_type": "code",
      "source": [
        "for i in lista:\n",
        "    url = f\"https://www3.wipo.int/madrid/monitor/en/showData.jsp?ID={i}\"\n",
        "    headers = {\n",
        "        \"User-Agent\": \"Mozilla/5.0 (Windows NT 10.0; Win64; x64) AppleWebKit/537.36 (KHTML, like Gecko) Chrome/94.0.4606.61 Safari/537.36\"\n",
        "    }\n",
        "\n",
        "    req = Request(url, headers=headers)\n",
        "\n",
        "    try:\n",
        "        response = urlopen(req)\n",
        "        html = response.read()\n",
        "        soup = BeautifulSoup(html, 'html.parser')\n",
        "\n",
        "        # Encontrando a div com a classe \"lapin client repType\"\n",
        "        div_lapin = soup.find('div', class_='lapin client repType')\n",
        "\n",
        "        if div_lapin is not None:\n",
        "            # Extraindo o texto da div\n",
        "            mandatario = div_lapin.get_text(separator='\\n').strip()\n",
        "            dados.append(mandatario)\n",
        "        else:\n",
        "            dados.append('FORA DO PADRAO HTML')  # Adicionando a mensagem caso não haja dados disponíveis\n",
        "\n",
        "    except HTTPError as e:\n",
        "        print('HTTP Error:', e.code, url)\n",
        "        dados.append('FORA DO PADRAO HTML')  # Adicionando a mensagem caso ocorra um erro HTTP\n",
        "    except URLError as e:\n",
        "        print('URL Error:', e.reason, url)\n",
        "        dados.append('FORA DO PADRAO HTML')  # Adicionando a mensagem caso ocorra um erro de URL\n",
        "\n",
        "data_dict = {\n",
        "    'NUMERO': lista,\n",
        "    'MANDATARIO': dados\n",
        "}\n"
      ],
      "metadata": {
        "id": "gFOROrgPW9sj"
      },
      "execution_count": null,
      "outputs": []
    },
    {
      "cell_type": "code",
      "source": [
        "# Criando o DataFrame do Pandas\n",
        "df = pd.DataFrame(data_dict)\n"
      ],
      "metadata": {
        "id": "ECJF856DXCOJ"
      },
      "execution_count": null,
      "outputs": []
    },
    {
      "cell_type": "code",
      "source": [
        "df.to_excel('WO_WIPO_completo.xlsx', index=False)\n"
      ],
      "metadata": {
        "id": "5hD_2iEYYsXS"
      },
      "execution_count": null,
      "outputs": []
    }
  ]
}